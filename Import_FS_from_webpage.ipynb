{
  "nbformat": 4,
  "nbformat_minor": 0,
  "metadata": {
    "colab": {
      "name": "Import FS from webpage.ipynb",
      "provenance": [],
      "authorship_tag": "ABX9TyM4M7Dxm2E6xJYg0u7al3Sf",
      "include_colab_link": true
    },
    "kernelspec": {
      "name": "python3",
      "display_name": "Python 3"
    }
  },
  "cells": [
    {
      "cell_type": "markdown",
      "metadata": {
        "id": "view-in-github",
        "colab_type": "text"
      },
      "source": [
        "<a href=\"https://colab.research.google.com/github/Chong618/Encoded-Auditor/blob/main/Import_FS_from_webpage.ipynb\" target=\"_parent\"><img src=\"https://colab.research.google.com/assets/colab-badge.svg\" alt=\"Open In Colab\"/></a>"
      ]
    },
    {
      "cell_type": "code",
      "metadata": {
        "id": "nVMV5eBg6py2"
      },
      "source": [
        "import pandas as pd"
      ],
      "execution_count": 2,
      "outputs": []
    },
    {
      "cell_type": "code",
      "metadata": {
        "id": "6aSvVQEXd4OD"
      },
      "source": [
        "url = 'https://www.sec.gov/Archives/edgar/data/1652044/000165204419000004/goog10-kq42018.htm'"
      ],
      "execution_count": 4,
      "outputs": []
    },
    {
      "cell_type": "code",
      "metadata": {
        "id": "4gvjVxV6eUw-"
      },
      "source": [
        "df = pd.read_html(url)"
      ],
      "execution_count": 5,
      "outputs": []
    },
    {
      "cell_type": "code",
      "metadata": {
        "colab": {
          "base_uri": "https://localhost:8080/"
        },
        "id": "C5HY0uXmebLE",
        "outputId": "323d32f1-4009-47c9-845f-868e0478c763"
      },
      "source": [
        "len(df)"
      ],
      "execution_count": 6,
      "outputs": [
        {
          "output_type": "execute_result",
          "data": {
            "text/plain": [
              "382"
            ]
          },
          "metadata": {
            "tags": []
          },
          "execution_count": 6
        }
      ]
    },
    {
      "cell_type": "code",
      "metadata": {
        "colab": {
          "base_uri": "https://localhost:8080/",
          "height": 359
        },
        "id": "LecswrAPegdB",
        "outputId": "302455ad-1df8-4540-e30b-747e54e3d052"
      },
      "source": [
        "df[238].head(10)"
      ],
      "execution_count": 10,
      "outputs": [
        {
          "output_type": "execute_result",
          "data": {
            "text/html": [
              "<div>\n",
              "<style scoped>\n",
              "    .dataframe tbody tr th:only-of-type {\n",
              "        vertical-align: middle;\n",
              "    }\n",
              "\n",
              "    .dataframe tbody tr th {\n",
              "        vertical-align: top;\n",
              "    }\n",
              "\n",
              "    .dataframe thead th {\n",
              "        text-align: right;\n",
              "    }\n",
              "</style>\n",
              "<table border=\"1\" class=\"dataframe\">\n",
              "  <thead>\n",
              "    <tr style=\"text-align: right;\">\n",
              "      <th></th>\n",
              "      <th>0</th>\n",
              "      <th>1</th>\n",
              "      <th>2</th>\n",
              "      <th>3</th>\n",
              "      <th>4</th>\n",
              "      <th>5</th>\n",
              "      <th>6</th>\n",
              "      <th>7</th>\n",
              "    </tr>\n",
              "  </thead>\n",
              "  <tbody>\n",
              "    <tr>\n",
              "      <th>0</th>\n",
              "      <td>NaN</td>\n",
              "      <td>NaN</td>\n",
              "      <td>NaN</td>\n",
              "      <td>NaN</td>\n",
              "      <td>NaN</td>\n",
              "      <td>NaN</td>\n",
              "      <td>NaN</td>\n",
              "      <td>NaN</td>\n",
              "    </tr>\n",
              "    <tr>\n",
              "      <th>1</th>\n",
              "      <td>NaN</td>\n",
              "      <td>NaN</td>\n",
              "      <td>NaN</td>\n",
              "      <td>NaN</td>\n",
              "      <td>NaN</td>\n",
              "      <td>NaN</td>\n",
              "      <td>NaN</td>\n",
              "      <td>NaN</td>\n",
              "    </tr>\n",
              "    <tr>\n",
              "      <th>2</th>\n",
              "      <td>NaN</td>\n",
              "      <td>As of December 31, 2017</td>\n",
              "      <td>As of December 31, 2017</td>\n",
              "      <td>As of December 31, 2017</td>\n",
              "      <td>NaN</td>\n",
              "      <td>As ofDecember 31, 2018</td>\n",
              "      <td>As ofDecember 31, 2018</td>\n",
              "      <td>As ofDecember 31, 2018</td>\n",
              "    </tr>\n",
              "    <tr>\n",
              "      <th>3</th>\n",
              "      <td>Assets</td>\n",
              "      <td>NaN</td>\n",
              "      <td>NaN</td>\n",
              "      <td>NaN</td>\n",
              "      <td>NaN</td>\n",
              "      <td>NaN</td>\n",
              "      <td>NaN</td>\n",
              "      <td>NaN</td>\n",
              "    </tr>\n",
              "    <tr>\n",
              "      <th>4</th>\n",
              "      <td>Current assets:</td>\n",
              "      <td>NaN</td>\n",
              "      <td>NaN</td>\n",
              "      <td>NaN</td>\n",
              "      <td>NaN</td>\n",
              "      <td>NaN</td>\n",
              "      <td>NaN</td>\n",
              "      <td>NaN</td>\n",
              "    </tr>\n",
              "    <tr>\n",
              "      <th>5</th>\n",
              "      <td>Cash and cash equivalents</td>\n",
              "      <td>$</td>\n",
              "      <td>10715</td>\n",
              "      <td>NaN</td>\n",
              "      <td>NaN</td>\n",
              "      <td>$</td>\n",
              "      <td>16701</td>\n",
              "      <td>NaN</td>\n",
              "    </tr>\n",
              "    <tr>\n",
              "      <th>6</th>\n",
              "      <td>Marketable securities</td>\n",
              "      <td>91156</td>\n",
              "      <td>91156</td>\n",
              "      <td>NaN</td>\n",
              "      <td>NaN</td>\n",
              "      <td>92439</td>\n",
              "      <td>92439</td>\n",
              "      <td>NaN</td>\n",
              "    </tr>\n",
              "    <tr>\n",
              "      <th>7</th>\n",
              "      <td>Total cash, cash equivalents, and marketable s...</td>\n",
              "      <td>101871</td>\n",
              "      <td>101871</td>\n",
              "      <td>NaN</td>\n",
              "      <td>NaN</td>\n",
              "      <td>109140</td>\n",
              "      <td>109140</td>\n",
              "      <td>NaN</td>\n",
              "    </tr>\n",
              "    <tr>\n",
              "      <th>8</th>\n",
              "      <td>Accounts receivable, net of allowance of $674 ...</td>\n",
              "      <td>18336</td>\n",
              "      <td>18336</td>\n",
              "      <td>NaN</td>\n",
              "      <td>NaN</td>\n",
              "      <td>20838</td>\n",
              "      <td>20838</td>\n",
              "      <td>NaN</td>\n",
              "    </tr>\n",
              "    <tr>\n",
              "      <th>9</th>\n",
              "      <td>Income taxes receivable, net</td>\n",
              "      <td>369</td>\n",
              "      <td>369</td>\n",
              "      <td>NaN</td>\n",
              "      <td>NaN</td>\n",
              "      <td>355</td>\n",
              "      <td>355</td>\n",
              "      <td>NaN</td>\n",
              "    </tr>\n",
              "  </tbody>\n",
              "</table>\n",
              "</div>"
            ],
            "text/plain": [
              "                                                   0  ...                       7\n",
              "0                                                NaN  ...                     NaN\n",
              "1                                                NaN  ...                     NaN\n",
              "2                                                NaN  ...  As ofDecember 31, 2018\n",
              "3                                             Assets  ...                     NaN\n",
              "4                                    Current assets:  ...                     NaN\n",
              "5                          Cash and cash equivalents  ...                     NaN\n",
              "6                              Marketable securities  ...                     NaN\n",
              "7  Total cash, cash equivalents, and marketable s...  ...                     NaN\n",
              "8  Accounts receivable, net of allowance of $674 ...  ...                     NaN\n",
              "9                       Income taxes receivable, net  ...                     NaN\n",
              "\n",
              "[10 rows x 8 columns]"
            ]
          },
          "metadata": {
            "tags": []
          },
          "execution_count": 10
        }
      ]
    },
    {
      "cell_type": "code",
      "metadata": {
        "id": "MpAAbuWjfR96"
      },
      "source": [
        "balsht = df[238][[0,2,6]]"
      ],
      "execution_count": 11,
      "outputs": []
    },
    {
      "cell_type": "code",
      "metadata": {
        "colab": {
          "base_uri": "https://localhost:8080/",
          "height": 359
        },
        "id": "MJEi5fwlgDM1",
        "outputId": "a373b1f3-9c35-458b-ec33-e041a2fe0536"
      },
      "source": [
        "balsht.head(10)"
      ],
      "execution_count": 12,
      "outputs": [
        {
          "output_type": "execute_result",
          "data": {
            "text/html": [
              "<div>\n",
              "<style scoped>\n",
              "    .dataframe tbody tr th:only-of-type {\n",
              "        vertical-align: middle;\n",
              "    }\n",
              "\n",
              "    .dataframe tbody tr th {\n",
              "        vertical-align: top;\n",
              "    }\n",
              "\n",
              "    .dataframe thead th {\n",
              "        text-align: right;\n",
              "    }\n",
              "</style>\n",
              "<table border=\"1\" class=\"dataframe\">\n",
              "  <thead>\n",
              "    <tr style=\"text-align: right;\">\n",
              "      <th></th>\n",
              "      <th>0</th>\n",
              "      <th>2</th>\n",
              "      <th>6</th>\n",
              "    </tr>\n",
              "  </thead>\n",
              "  <tbody>\n",
              "    <tr>\n",
              "      <th>0</th>\n",
              "      <td>NaN</td>\n",
              "      <td>NaN</td>\n",
              "      <td>NaN</td>\n",
              "    </tr>\n",
              "    <tr>\n",
              "      <th>1</th>\n",
              "      <td>NaN</td>\n",
              "      <td>NaN</td>\n",
              "      <td>NaN</td>\n",
              "    </tr>\n",
              "    <tr>\n",
              "      <th>2</th>\n",
              "      <td>NaN</td>\n",
              "      <td>As of December 31, 2017</td>\n",
              "      <td>As ofDecember 31, 2018</td>\n",
              "    </tr>\n",
              "    <tr>\n",
              "      <th>3</th>\n",
              "      <td>Assets</td>\n",
              "      <td>NaN</td>\n",
              "      <td>NaN</td>\n",
              "    </tr>\n",
              "    <tr>\n",
              "      <th>4</th>\n",
              "      <td>Current assets:</td>\n",
              "      <td>NaN</td>\n",
              "      <td>NaN</td>\n",
              "    </tr>\n",
              "    <tr>\n",
              "      <th>5</th>\n",
              "      <td>Cash and cash equivalents</td>\n",
              "      <td>10715</td>\n",
              "      <td>16701</td>\n",
              "    </tr>\n",
              "    <tr>\n",
              "      <th>6</th>\n",
              "      <td>Marketable securities</td>\n",
              "      <td>91156</td>\n",
              "      <td>92439</td>\n",
              "    </tr>\n",
              "    <tr>\n",
              "      <th>7</th>\n",
              "      <td>Total cash, cash equivalents, and marketable s...</td>\n",
              "      <td>101871</td>\n",
              "      <td>109140</td>\n",
              "    </tr>\n",
              "    <tr>\n",
              "      <th>8</th>\n",
              "      <td>Accounts receivable, net of allowance of $674 ...</td>\n",
              "      <td>18336</td>\n",
              "      <td>20838</td>\n",
              "    </tr>\n",
              "    <tr>\n",
              "      <th>9</th>\n",
              "      <td>Income taxes receivable, net</td>\n",
              "      <td>369</td>\n",
              "      <td>355</td>\n",
              "    </tr>\n",
              "  </tbody>\n",
              "</table>\n",
              "</div>"
            ],
            "text/plain": [
              "                                                   0  ...                       6\n",
              "0                                                NaN  ...                     NaN\n",
              "1                                                NaN  ...                     NaN\n",
              "2                                                NaN  ...  As ofDecember 31, 2018\n",
              "3                                             Assets  ...                     NaN\n",
              "4                                    Current assets:  ...                     NaN\n",
              "5                          Cash and cash equivalents  ...                   16701\n",
              "6                              Marketable securities  ...                   92439\n",
              "7  Total cash, cash equivalents, and marketable s...  ...                  109140\n",
              "8  Accounts receivable, net of allowance of $674 ...  ...                   20838\n",
              "9                       Income taxes receivable, net  ...                     355\n",
              "\n",
              "[10 rows x 3 columns]"
            ]
          },
          "metadata": {
            "tags": []
          },
          "execution_count": 12
        }
      ]
    },
    {
      "cell_type": "code",
      "metadata": {
        "id": "ZZggcSH_gHzY"
      },
      "source": [
        "balsht.columns = ['Account', '31 Dec 2017', '31 Dec 2018']"
      ],
      "execution_count": 13,
      "outputs": []
    },
    {
      "cell_type": "code",
      "metadata": {
        "colab": {
          "base_uri": "https://localhost:8080/",
          "height": 204
        },
        "id": "3UodIL4AggIV",
        "outputId": "30f49f03-d580-4bc9-8465-dc36ec57b457"
      },
      "source": [
        "balsht.head()"
      ],
      "execution_count": 14,
      "outputs": [
        {
          "output_type": "execute_result",
          "data": {
            "text/html": [
              "<div>\n",
              "<style scoped>\n",
              "    .dataframe tbody tr th:only-of-type {\n",
              "        vertical-align: middle;\n",
              "    }\n",
              "\n",
              "    .dataframe tbody tr th {\n",
              "        vertical-align: top;\n",
              "    }\n",
              "\n",
              "    .dataframe thead th {\n",
              "        text-align: right;\n",
              "    }\n",
              "</style>\n",
              "<table border=\"1\" class=\"dataframe\">\n",
              "  <thead>\n",
              "    <tr style=\"text-align: right;\">\n",
              "      <th></th>\n",
              "      <th>Account</th>\n",
              "      <th>31 Dec 2017</th>\n",
              "      <th>31 Dec 2018</th>\n",
              "    </tr>\n",
              "  </thead>\n",
              "  <tbody>\n",
              "    <tr>\n",
              "      <th>0</th>\n",
              "      <td>NaN</td>\n",
              "      <td>NaN</td>\n",
              "      <td>NaN</td>\n",
              "    </tr>\n",
              "    <tr>\n",
              "      <th>1</th>\n",
              "      <td>NaN</td>\n",
              "      <td>NaN</td>\n",
              "      <td>NaN</td>\n",
              "    </tr>\n",
              "    <tr>\n",
              "      <th>2</th>\n",
              "      <td>NaN</td>\n",
              "      <td>As of December 31, 2017</td>\n",
              "      <td>As ofDecember 31, 2018</td>\n",
              "    </tr>\n",
              "    <tr>\n",
              "      <th>3</th>\n",
              "      <td>Assets</td>\n",
              "      <td>NaN</td>\n",
              "      <td>NaN</td>\n",
              "    </tr>\n",
              "    <tr>\n",
              "      <th>4</th>\n",
              "      <td>Current assets:</td>\n",
              "      <td>NaN</td>\n",
              "      <td>NaN</td>\n",
              "    </tr>\n",
              "  </tbody>\n",
              "</table>\n",
              "</div>"
            ],
            "text/plain": [
              "           Account              31 Dec 2017             31 Dec 2018\n",
              "0              NaN                      NaN                     NaN\n",
              "1              NaN                      NaN                     NaN\n",
              "2              NaN  As of December 31, 2017  As ofDecember 31, 2018\n",
              "3           Assets                      NaN                     NaN\n",
              "4  Current assets:                      NaN                     NaN"
            ]
          },
          "metadata": {
            "tags": []
          },
          "execution_count": 14
        }
      ]
    },
    {
      "cell_type": "code",
      "metadata": {
        "colab": {
          "base_uri": "https://localhost:8080/",
          "height": 204
        },
        "id": "cPKuJglHgiV8",
        "outputId": "a8d13a74-6484-4e9e-8101-1973fbe916c6"
      },
      "source": [
        "balsht = balsht.dropna()\n",
        "balsht.head()"
      ],
      "execution_count": 15,
      "outputs": [
        {
          "output_type": "execute_result",
          "data": {
            "text/html": [
              "<div>\n",
              "<style scoped>\n",
              "    .dataframe tbody tr th:only-of-type {\n",
              "        vertical-align: middle;\n",
              "    }\n",
              "\n",
              "    .dataframe tbody tr th {\n",
              "        vertical-align: top;\n",
              "    }\n",
              "\n",
              "    .dataframe thead th {\n",
              "        text-align: right;\n",
              "    }\n",
              "</style>\n",
              "<table border=\"1\" class=\"dataframe\">\n",
              "  <thead>\n",
              "    <tr style=\"text-align: right;\">\n",
              "      <th></th>\n",
              "      <th>Account</th>\n",
              "      <th>31 Dec 2017</th>\n",
              "      <th>31 Dec 2018</th>\n",
              "    </tr>\n",
              "  </thead>\n",
              "  <tbody>\n",
              "    <tr>\n",
              "      <th>5</th>\n",
              "      <td>Cash and cash equivalents</td>\n",
              "      <td>10715</td>\n",
              "      <td>16701</td>\n",
              "    </tr>\n",
              "    <tr>\n",
              "      <th>6</th>\n",
              "      <td>Marketable securities</td>\n",
              "      <td>91156</td>\n",
              "      <td>92439</td>\n",
              "    </tr>\n",
              "    <tr>\n",
              "      <th>7</th>\n",
              "      <td>Total cash, cash equivalents, and marketable s...</td>\n",
              "      <td>101871</td>\n",
              "      <td>109140</td>\n",
              "    </tr>\n",
              "    <tr>\n",
              "      <th>8</th>\n",
              "      <td>Accounts receivable, net of allowance of $674 ...</td>\n",
              "      <td>18336</td>\n",
              "      <td>20838</td>\n",
              "    </tr>\n",
              "    <tr>\n",
              "      <th>9</th>\n",
              "      <td>Income taxes receivable, net</td>\n",
              "      <td>369</td>\n",
              "      <td>355</td>\n",
              "    </tr>\n",
              "  </tbody>\n",
              "</table>\n",
              "</div>"
            ],
            "text/plain": [
              "                                             Account 31 Dec 2017 31 Dec 2018\n",
              "5                          Cash and cash equivalents       10715       16701\n",
              "6                              Marketable securities       91156       92439\n",
              "7  Total cash, cash equivalents, and marketable s...      101871      109140\n",
              "8  Accounts receivable, net of allowance of $674 ...       18336       20838\n",
              "9                       Income taxes receivable, net         369         355"
            ]
          },
          "metadata": {
            "tags": []
          },
          "execution_count": 15
        }
      ]
    },
    {
      "cell_type": "code",
      "metadata": {
        "id": "enslEQ9mgzHP"
      },
      "source": [
        "balsht = balsht.reset_index(drop=True)"
      ],
      "execution_count": 16,
      "outputs": []
    },
    {
      "cell_type": "code",
      "metadata": {
        "colab": {
          "base_uri": "https://localhost:8080/",
          "height": 204
        },
        "id": "cSCcKZFGhBcd",
        "outputId": "9b6410b4-ddfb-4110-9a7f-074ba27069a8"
      },
      "source": [
        "balsht.head()"
      ],
      "execution_count": 17,
      "outputs": [
        {
          "output_type": "execute_result",
          "data": {
            "text/html": [
              "<div>\n",
              "<style scoped>\n",
              "    .dataframe tbody tr th:only-of-type {\n",
              "        vertical-align: middle;\n",
              "    }\n",
              "\n",
              "    .dataframe tbody tr th {\n",
              "        vertical-align: top;\n",
              "    }\n",
              "\n",
              "    .dataframe thead th {\n",
              "        text-align: right;\n",
              "    }\n",
              "</style>\n",
              "<table border=\"1\" class=\"dataframe\">\n",
              "  <thead>\n",
              "    <tr style=\"text-align: right;\">\n",
              "      <th></th>\n",
              "      <th>Account</th>\n",
              "      <th>31 Dec 2017</th>\n",
              "      <th>31 Dec 2018</th>\n",
              "    </tr>\n",
              "  </thead>\n",
              "  <tbody>\n",
              "    <tr>\n",
              "      <th>0</th>\n",
              "      <td>Cash and cash equivalents</td>\n",
              "      <td>10715</td>\n",
              "      <td>16701</td>\n",
              "    </tr>\n",
              "    <tr>\n",
              "      <th>1</th>\n",
              "      <td>Marketable securities</td>\n",
              "      <td>91156</td>\n",
              "      <td>92439</td>\n",
              "    </tr>\n",
              "    <tr>\n",
              "      <th>2</th>\n",
              "      <td>Total cash, cash equivalents, and marketable s...</td>\n",
              "      <td>101871</td>\n",
              "      <td>109140</td>\n",
              "    </tr>\n",
              "    <tr>\n",
              "      <th>3</th>\n",
              "      <td>Accounts receivable, net of allowance of $674 ...</td>\n",
              "      <td>18336</td>\n",
              "      <td>20838</td>\n",
              "    </tr>\n",
              "    <tr>\n",
              "      <th>4</th>\n",
              "      <td>Income taxes receivable, net</td>\n",
              "      <td>369</td>\n",
              "      <td>355</td>\n",
              "    </tr>\n",
              "  </tbody>\n",
              "</table>\n",
              "</div>"
            ],
            "text/plain": [
              "                                             Account 31 Dec 2017 31 Dec 2018\n",
              "0                          Cash and cash equivalents       10715       16701\n",
              "1                              Marketable securities       91156       92439\n",
              "2  Total cash, cash equivalents, and marketable s...      101871      109140\n",
              "3  Accounts receivable, net of allowance of $674 ...       18336       20838\n",
              "4                       Income taxes receivable, net         369         355"
            ]
          },
          "metadata": {
            "tags": []
          },
          "execution_count": 17
        }
      ]
    },
    {
      "cell_type": "code",
      "metadata": {
        "colab": {
          "base_uri": "https://localhost:8080/",
          "height": 204
        },
        "id": "LnP4RGwTkXXa",
        "outputId": "9c8f6c17-90b8-4ef4-e095-9940f0ace4b9"
      },
      "source": [
        "balsht.tail()"
      ],
      "execution_count": 19,
      "outputs": [
        {
          "output_type": "execute_result",
          "data": {
            "text/html": [
              "<div>\n",
              "<style scoped>\n",
              "    .dataframe tbody tr th:only-of-type {\n",
              "        vertical-align: middle;\n",
              "    }\n",
              "\n",
              "    .dataframe tbody tr th {\n",
              "        vertical-align: top;\n",
              "    }\n",
              "\n",
              "    .dataframe thead th {\n",
              "        text-align: right;\n",
              "    }\n",
              "</style>\n",
              "<table border=\"1\" class=\"dataframe\">\n",
              "  <thead>\n",
              "    <tr style=\"text-align: right;\">\n",
              "      <th></th>\n",
              "      <th>Account</th>\n",
              "      <th>31 Dec 2017</th>\n",
              "      <th>31 Dec 2018</th>\n",
              "    </tr>\n",
              "  </thead>\n",
              "  <tbody>\n",
              "    <tr>\n",
              "      <th>29</th>\n",
              "      <td>Class A and Class B common stock, and Class C ...</td>\n",
              "      <td>40247</td>\n",
              "      <td>45049</td>\n",
              "    </tr>\n",
              "    <tr>\n",
              "      <th>30</th>\n",
              "      <td>Accumulated other comprehensive loss</td>\n",
              "      <td>(992</td>\n",
              "      <td>(2,306</td>\n",
              "    </tr>\n",
              "    <tr>\n",
              "      <th>31</th>\n",
              "      <td>Retained earnings</td>\n",
              "      <td>113247</td>\n",
              "      <td>134885</td>\n",
              "    </tr>\n",
              "    <tr>\n",
              "      <th>32</th>\n",
              "      <td>Total stockholders’ equity</td>\n",
              "      <td>152502</td>\n",
              "      <td>177628</td>\n",
              "    </tr>\n",
              "    <tr>\n",
              "      <th>33</th>\n",
              "      <td>Total liabilities and stockholders’ equity</td>\n",
              "      <td>197295</td>\n",
              "      <td>232792</td>\n",
              "    </tr>\n",
              "  </tbody>\n",
              "</table>\n",
              "</div>"
            ],
            "text/plain": [
              "                                              Account 31 Dec 2017 31 Dec 2018\n",
              "29  Class A and Class B common stock, and Class C ...       40247       45049\n",
              "30               Accumulated other comprehensive loss        (992      (2,306\n",
              "31                                  Retained earnings      113247      134885\n",
              "32                         Total stockholders’ equity      152502      177628\n",
              "33         Total liabilities and stockholders’ equity      197295      232792"
            ]
          },
          "metadata": {
            "tags": []
          },
          "execution_count": 19
        }
      ]
    },
    {
      "cell_type": "code",
      "metadata": {
        "colab": {
          "base_uri": "https://localhost:8080/"
        },
        "id": "o59siQq7hDpL",
        "outputId": "16014c3e-1822-44f9-faf4-f505517db233"
      },
      "source": [
        "#Check data types\n",
        "balsht[['31 Dec 2017', '31 Dec 2018']].dtypes"
      ],
      "execution_count": 24,
      "outputs": [
        {
          "output_type": "execute_result",
          "data": {
            "text/plain": [
              "31 Dec 2017    object\n",
              "31 Dec 2018    object\n",
              "dtype: object"
            ]
          },
          "metadata": {
            "tags": []
          },
          "execution_count": 24
        }
      ]
    },
    {
      "cell_type": "code",
      "metadata": {
        "id": "DCLib2qRhdOq"
      },
      "source": [
        "#Replace the open paranthesis '(' with negative sign '-'\n",
        "#Map function https://pandas.pydata.org/pandas-docs/version/0.19.2/generated/pandas.Series.map.html\n",
        "#Lambda function https://www.analyticsvidhya.com/blog/2020/03/what-are-lambda-functions-in-python/\n",
        "balsht['31 Dec 2017'] = balsht['31 Dec 2017'].map(lambda x: x.replace('(', '-').replace(',', ''))\n",
        "balsht['31 Dec 2018'] = balsht['31 Dec 2018'].map(lambda x: x.replace('(', '-').replace(',', ''))"
      ],
      "execution_count": 29,
      "outputs": []
    },
    {
      "cell_type": "code",
      "metadata": {
        "colab": {
          "base_uri": "https://localhost:8080/",
          "height": 204
        },
        "id": "d4sE6f_QxoXm",
        "outputId": "d3c7e107-b865-411c-8b36-a75e7685d099"
      },
      "source": [
        "balsht.tail()"
      ],
      "execution_count": 31,
      "outputs": [
        {
          "output_type": "execute_result",
          "data": {
            "text/html": [
              "<div>\n",
              "<style scoped>\n",
              "    .dataframe tbody tr th:only-of-type {\n",
              "        vertical-align: middle;\n",
              "    }\n",
              "\n",
              "    .dataframe tbody tr th {\n",
              "        vertical-align: top;\n",
              "    }\n",
              "\n",
              "    .dataframe thead th {\n",
              "        text-align: right;\n",
              "    }\n",
              "</style>\n",
              "<table border=\"1\" class=\"dataframe\">\n",
              "  <thead>\n",
              "    <tr style=\"text-align: right;\">\n",
              "      <th></th>\n",
              "      <th>Account</th>\n",
              "      <th>31 Dec 2017</th>\n",
              "      <th>31 Dec 2018</th>\n",
              "    </tr>\n",
              "  </thead>\n",
              "  <tbody>\n",
              "    <tr>\n",
              "      <th>29</th>\n",
              "      <td>Class A and Class B common stock, and Class C ...</td>\n",
              "      <td>40247</td>\n",
              "      <td>45049</td>\n",
              "    </tr>\n",
              "    <tr>\n",
              "      <th>30</th>\n",
              "      <td>Accumulated other comprehensive loss</td>\n",
              "      <td>-992</td>\n",
              "      <td>-2306</td>\n",
              "    </tr>\n",
              "    <tr>\n",
              "      <th>31</th>\n",
              "      <td>Retained earnings</td>\n",
              "      <td>113247</td>\n",
              "      <td>134885</td>\n",
              "    </tr>\n",
              "    <tr>\n",
              "      <th>32</th>\n",
              "      <td>Total stockholders’ equity</td>\n",
              "      <td>152502</td>\n",
              "      <td>177628</td>\n",
              "    </tr>\n",
              "    <tr>\n",
              "      <th>33</th>\n",
              "      <td>Total liabilities and stockholders’ equity</td>\n",
              "      <td>197295</td>\n",
              "      <td>232792</td>\n",
              "    </tr>\n",
              "  </tbody>\n",
              "</table>\n",
              "</div>"
            ],
            "text/plain": [
              "                                              Account 31 Dec 2017 31 Dec 2018\n",
              "29  Class A and Class B common stock, and Class C ...       40247       45049\n",
              "30               Accumulated other comprehensive loss        -992       -2306\n",
              "31                                  Retained earnings      113247      134885\n",
              "32                         Total stockholders’ equity      152502      177628\n",
              "33         Total liabilities and stockholders’ equity      197295      232792"
            ]
          },
          "metadata": {
            "tags": []
          },
          "execution_count": 31
        }
      ]
    },
    {
      "cell_type": "code",
      "metadata": {
        "id": "0tQJTUG4yqPe"
      },
      "source": [
        "#Since the datatype is now object, lets convert it to number (float)\n",
        "balsht[['31 Dec 2017', '31 Dec 2018']] = balsht[['31 Dec 2017', '31 Dec 2018']].astype(float)"
      ],
      "execution_count": 32,
      "outputs": []
    },
    {
      "cell_type": "code",
      "metadata": {
        "colab": {
          "base_uri": "https://localhost:8080/",
          "height": 204
        },
        "id": "dhgcd5ZuzRSf",
        "outputId": "0a80b213-dc77-4b0a-b99f-ffcf9387ad39"
      },
      "source": [
        "balsht.head()"
      ],
      "execution_count": 34,
      "outputs": [
        {
          "output_type": "execute_result",
          "data": {
            "text/html": [
              "<div>\n",
              "<style scoped>\n",
              "    .dataframe tbody tr th:only-of-type {\n",
              "        vertical-align: middle;\n",
              "    }\n",
              "\n",
              "    .dataframe tbody tr th {\n",
              "        vertical-align: top;\n",
              "    }\n",
              "\n",
              "    .dataframe thead th {\n",
              "        text-align: right;\n",
              "    }\n",
              "</style>\n",
              "<table border=\"1\" class=\"dataframe\">\n",
              "  <thead>\n",
              "    <tr style=\"text-align: right;\">\n",
              "      <th></th>\n",
              "      <th>Account</th>\n",
              "      <th>31 Dec 2017</th>\n",
              "      <th>31 Dec 2018</th>\n",
              "    </tr>\n",
              "  </thead>\n",
              "  <tbody>\n",
              "    <tr>\n",
              "      <th>0</th>\n",
              "      <td>Cash and cash equivalents</td>\n",
              "      <td>10715.0</td>\n",
              "      <td>16701.0</td>\n",
              "    </tr>\n",
              "    <tr>\n",
              "      <th>1</th>\n",
              "      <td>Marketable securities</td>\n",
              "      <td>91156.0</td>\n",
              "      <td>92439.0</td>\n",
              "    </tr>\n",
              "    <tr>\n",
              "      <th>2</th>\n",
              "      <td>Total cash, cash equivalents, and marketable s...</td>\n",
              "      <td>101871.0</td>\n",
              "      <td>109140.0</td>\n",
              "    </tr>\n",
              "    <tr>\n",
              "      <th>3</th>\n",
              "      <td>Accounts receivable, net of allowance of $674 ...</td>\n",
              "      <td>18336.0</td>\n",
              "      <td>20838.0</td>\n",
              "    </tr>\n",
              "    <tr>\n",
              "      <th>4</th>\n",
              "      <td>Income taxes receivable, net</td>\n",
              "      <td>369.0</td>\n",
              "      <td>355.0</td>\n",
              "    </tr>\n",
              "  </tbody>\n",
              "</table>\n",
              "</div>"
            ],
            "text/plain": [
              "                                             Account  31 Dec 2017  31 Dec 2018\n",
              "0                          Cash and cash equivalents      10715.0      16701.0\n",
              "1                              Marketable securities      91156.0      92439.0\n",
              "2  Total cash, cash equivalents, and marketable s...     101871.0     109140.0\n",
              "3  Accounts receivable, net of allowance of $674 ...      18336.0      20838.0\n",
              "4                       Income taxes receivable, net        369.0        355.0"
            ]
          },
          "metadata": {
            "tags": []
          },
          "execution_count": 34
        }
      ]
    },
    {
      "cell_type": "code",
      "metadata": {
        "colab": {
          "base_uri": "https://localhost:8080/"
        },
        "id": "dH8Ih592zWTr",
        "outputId": "07a036bd-d2fb-4e90-b76e-392eaec2c93f"
      },
      "source": [
        "#sum the total\n",
        "balsht['31 Dec 2017'].iloc[[0,1]].sum()"
      ],
      "execution_count": 35,
      "outputs": [
        {
          "output_type": "execute_result",
          "data": {
            "text/plain": [
              "101871.0"
            ]
          },
          "metadata": {
            "tags": []
          },
          "execution_count": 35
        }
      ]
    },
    {
      "cell_type": "code",
      "metadata": {
        "id": "k2AM-9MBztBr"
      },
      "source": [
        "#define total_cash\n",
        "total_cash_2017 = balsht['31 Dec 2017'].iloc[[0,1]].sum()"
      ],
      "execution_count": 37,
      "outputs": []
    },
    {
      "cell_type": "code",
      "metadata": {
        "colab": {
          "base_uri": "https://localhost:8080/"
        },
        "id": "-L30Eu4J1ZvD",
        "outputId": "6670918e-364a-4bef-8bfb-560fb07ba123"
      },
      "source": [
        "#validation/ casting check\n",
        "total_cash_2017 == balsht.iloc[2]['31 Dec 2017']"
      ],
      "execution_count": 38,
      "outputs": [
        {
          "output_type": "execute_result",
          "data": {
            "text/plain": [
              "True"
            ]
          },
          "metadata": {
            "tags": []
          },
          "execution_count": 38
        }
      ]
    },
    {
      "cell_type": "code",
      "metadata": {
        "id": "k0MFrWtS12n4"
      },
      "source": [
        ""
      ],
      "execution_count": null,
      "outputs": []
    }
  ]
}